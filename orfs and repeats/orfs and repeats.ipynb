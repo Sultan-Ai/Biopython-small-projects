{
 "cells": [
  {
   "cell_type": "markdown",
   "id": "4087cb62-d911-4c51-b5d1-70e9b1e7c268",
   "metadata": {},
   "source": [
    "# Readme"
   ]
  },
  {
   "cell_type": "markdown",
   "id": "19379780-ac85-4c35-9337-fefb8c0c1db7",
   "metadata": {},
   "source": [
    "This is a file for the final exam in the course called \"Python for Genomic Data Science\". The Focus of this file is on the analysis of ORFs and repeats. This file answers all questions 100% correctly."
   ]
  },
  {
   "cell_type": "markdown",
   "id": "63a35a5a-0ff9-49be-8c30-eccc3c9145c5",
   "metadata": {},
   "source": [
    "## Import data"
   ]
  },
  {
   "cell_type": "code",
   "execution_count": 1,
   "id": "6d9207b0-1830-4374-9bff-c22cf5ae2184",
   "metadata": {},
   "outputs": [],
   "source": [
    "from Bio import SeqIO\n",
    "from Bio.Seq import Seq"
   ]
  },
  {
   "cell_type": "code",
   "execution_count": 2,
   "id": "bc77ea59-060a-4fc0-88db-6ed869bfd806",
   "metadata": {},
   "outputs": [],
   "source": [
    "my_seq = list(SeqIO.parse(\"dna2.fasta\", \"fasta\"))"
   ]
  },
  {
   "cell_type": "code",
   "execution_count": 3,
   "id": "9d60d8d8-5fe4-408b-b5a6-00b65c433128",
   "metadata": {},
   "outputs": [
    {
     "data": {
      "text/plain": [
       "SeqRecord(seq=Seq('CTCGCGTTGCAGGCCGGCGTGTCGCGCAACGACGTGTGGGGCCTGACGGGCAGG...GCC'), id='gi|142022655|gb|EQ086233.1|91', name='gi|142022655|gb|EQ086233.1|91', description='gi|142022655|gb|EQ086233.1|91 marine metagenome JCVI_SCAF_1096627390048 genomic scaffold, whole genome shotgun sequence', dbxrefs=[])"
      ]
     },
     "execution_count": 3,
     "metadata": {},
     "output_type": "execute_result"
    }
   ],
   "source": [
    "my_seq[0]"
   ]
  },
  {
   "cell_type": "markdown",
   "id": "c7448116-7647-4c7d-a33a-ff1c5b2511ab",
   "metadata": {},
   "source": [
    "## How many my_seq are in the multi-FASTA file?"
   ]
  },
  {
   "cell_type": "code",
   "execution_count": 4,
   "id": "680bcd96-5cee-41cc-8761-e93ad03ffa6f",
   "metadata": {},
   "outputs": [
    {
     "data": {
      "text/plain": [
       "18"
      ]
     },
     "execution_count": 4,
     "metadata": {},
     "output_type": "execute_result"
    }
   ],
   "source": [
    "len(my_seq)"
   ]
  },
  {
   "cell_type": "markdown",
   "id": "003603d7-d876-4aba-b4bf-4422d236e8ae",
   "metadata": {},
   "source": [
    "## What is the length of the longest sequence in the file?"
   ]
  },
  {
   "cell_type": "code",
   "execution_count": 5,
   "id": "13c0e818-3f44-49e2-846d-ab71afb5c84c",
   "metadata": {},
   "outputs": [
    {
     "name": "stdout",
     "output_type": "stream",
     "text": [
      "4635\n",
      "1151\n",
      "4894\n",
      "3511\n",
      "4076\n",
      "2867\n",
      "442\n",
      "890\n",
      "967\n",
      "4338\n",
      "1352\n",
      "4564\n",
      "4804\n",
      "964\n",
      "2095\n",
      "1432\n",
      "115\n",
      "2646\n",
      "This is the longest string 4894\n"
     ]
    }
   ],
   "source": [
    "maximum = 0\n",
    "for i in range(len(my_seq)):\n",
    "    record_len = len(my_seq[i].seq)\n",
    "    print(record_len)\n",
    "    if record_len >= maximum:\n",
    "        maximum = record_len\n",
    "\n",
    "print(f\"This is the longest string {maximum}\")"
   ]
  },
  {
   "cell_type": "markdown",
   "id": "9daa75a4-461f-46ff-a9ae-7deac8768b0c",
   "metadata": {},
   "source": [
    "## What is the length of the shortest sequence in the file?"
   ]
  },
  {
   "cell_type": "code",
   "execution_count": 6,
   "id": "9b936f04-d596-4377-85c9-83186909f44c",
   "metadata": {},
   "outputs": [
    {
     "name": "stdout",
     "output_type": "stream",
     "text": [
      "4635\n",
      "1151\n",
      "4894\n",
      "3511\n",
      "4076\n",
      "2867\n",
      "442\n",
      "890\n",
      "967\n",
      "4338\n",
      "1352\n",
      "4564\n",
      "4804\n",
      "964\n",
      "2095\n",
      "1432\n",
      "115\n",
      "2646\n",
      "This is the shortest string 115\n"
     ]
    }
   ],
   "source": [
    "minimum = maximum\n",
    "for i in range(len(my_seq)):\n",
    "    record_len = len(my_seq[i].seq)\n",
    "    print(record_len)\n",
    "    if record_len <= minimum:\n",
    "        minimum = record_len\n",
    "\n",
    "print(f\"This is the shortest string {minimum}\")"
   ]
  },
  {
   "cell_type": "markdown",
   "id": "2f5948b4-743a-41f9-8851-f1cd996fe4f6",
   "metadata": {},
   "source": [
    "## What is the length of the longest ORF appearing in reading frame 2 of any of the sequences?"
   ]
  },
  {
   "cell_type": "markdown",
   "id": "2cd52950-3e69-4389-a7e1-3c889bb2622f",
   "metadata": {},
   "source": [
    "An open reading frame (ORF) is the part of a reading frame that has the potential to encode a protein. It starts with a start codon (ATG), and ends with a stop codon (TAA, TAG or TGA). For instance, ATGAAATAG is an ORF of length 9.\n",
    "\n",
    "An open reading frame (ORF) is a sequence of DNA or RNA that does not contain any stop codons (TAA, TAG, or TGA) and can potentially encode a protein."
   ]
  },
  {
   "cell_type": "code",
   "execution_count": 7,
   "id": "766d9a77-32c3-4293-b3b8-0d35b1e7430f",
   "metadata": {},
   "outputs": [],
   "source": [
    "# checks whether a sequence has a stop codon\n",
    "# assumes that the reading frame is 1, which means that\n",
    "# the reading starts with the very first nucleotide\n",
    "\"\"\"\n",
    "input - DNA sequence\n",
    "output - True (detected) or False (not detected)\n",
    "\"\"\"\n",
    "\n",
    "def check_orf(seq):\n",
    "    \n",
    "    # stop codons\n",
    "    stop_codons = [\"TAA\", \"TAG\", \"TGA\"]\n",
    "    \n",
    "    N = len(seq)\n",
    "    \n",
    "    # raise Exception(\"ERROR, because not divisible by 3\")\n",
    "    if N % 3 != 0:        \n",
    "        return \"ERROR, because not divisible by 3\"\n",
    "    \n",
    "    # MAIN FUNCTION\n",
    "    # find stop codons in the middle of a sequence\n",
    "    for i in range(0, N-6, 3):\n",
    "        \n",
    "        if seq[i:i+3] in stop_codons:\n",
    "            \n",
    "            return(f\"NOT ORF index {i} and {seq[i:i+3]}\")\n",
    "    \n",
    "    return \"This is ORF\""
   ]
  },
  {
   "cell_type": "code",
   "execution_count": 8,
   "id": "014cd73b-fb8d-4302-ac95-853e43c7c202",
   "metadata": {},
   "outputs": [],
   "source": [
    "# divides into subsequences starting with ATG and ending with TAA, TAG or TGA\n",
    "# they are called ORF subsequences\n",
    "# it is not allowed to have the stop codons in the middle\n",
    "# subsequences must be longer than 6 nucleotides\n",
    "\"\"\"\n",
    "input: a DNA sequence, reading frame (1,2,3)\n",
    "output: ORF subsequences\n",
    "\"\"\"\n",
    "\n",
    "def split_orf_seq(seq, k=0):\n",
    "    \n",
    "    # stop codons\n",
    "    stop_codons = [\"TAA\", \"TAG\", \"TGA\"]\n",
    "    \n",
    "    sub_seq = []\n",
    "    ind_seq = []\n",
    "    \n",
    "    N = len(seq)\n",
    "    \n",
    "    # frame must be 1,2 or 3 which means that k must be 0,1 or 2\n",
    "    if k not in [0,1,2]:\n",
    "        raise ValueError(\"k must be equal to 0, 1 or 2\")\n",
    "\n",
    "    # MAIN FUNCTION\n",
    "    for i in range(k, N-k-3, 3):\n",
    "        \n",
    "        if seq[i:i+3] == 'ATG':\n",
    "            \n",
    "            # IMPORTANT!!!\n",
    "            # step must be 3 in range\n",
    "            for j in range(i+3, N, 3):\n",
    "                if seq[j:j+3] in stop_codons:\n",
    "                    \n",
    "                    sub_seq_ = seq[i:j+3]\n",
    "                    # sub_seq_ must be longer than 6 nucleotides\n",
    "                    if len(sub_seq_) > 6:\n",
    "                        sub_seq.append(sub_seq_)\n",
    "                        ind_seq.append((i,j+3, j-i+3))\n",
    "                    \n",
    "                    #IMPORTANT!!!\n",
    "                    # when stop codon is detected, we need to break from the cycle\n",
    "                    break\n",
    "                    \n",
    "\n",
    "    return sub_seq, ind_seq"
   ]
  },
  {
   "cell_type": "code",
   "execution_count": 9,
   "id": "58b7ed77-cb40-4be4-a597-74c85ca027a8",
   "metadata": {},
   "outputs": [
    {
     "name": "stdout",
     "output_type": "stream",
     "text": [
      "ATGAAAATGAAATAA\n",
      "(1, 16, 15)\n",
      "This is ORF\n",
      "ATGAAATAA\n",
      "(7, 16, 9)\n",
      "This is ORF\n",
      "ATGAAATGA\n",
      "(16, 25, 9)\n",
      "This is ORF\n"
     ]
    }
   ],
   "source": [
    "# check two functions above on a small example\n",
    "dna_seq = Seq(\"AATGAAAATGAAATAAATGAAATGA\")\n",
    "sequences, indices = split_orf_seq(dna_seq,1)\n",
    "for seq, indices in zip(sequences, indices):\n",
    "    print(seq)\n",
    "    print(indices)\n",
    "    print(check_orf(seq))"
   ]
  },
  {
   "cell_type": "code",
   "execution_count": 10,
   "id": "2e62d129-2811-40b3-aaae-749e94b8baa9",
   "metadata": {},
   "outputs": [
    {
     "name": "stdout",
     "output_type": "stream",
     "text": [
      "For gi|142022655|gb|EQ086233.1|91, there are ORFs [(76, 127, 51), (292, 343, 51), (346, 355, 9), (640, 655, 15), (658, 748, 90), (817, 1054, 237), (1102, 1135, 33), (1414, 1555, 141), (1657, 1666, 9), (1747, 1819, 72), (2077, 2215, 138), (2395, 2416, 21), (2557, 2584, 27), (2860, 2881, 21)]\n",
      "For gi|142022655|gb|EQ086233.1|304, there are ORFs []\n",
      "For gi|142022655|gb|EQ086233.1|255, there are ORFs [(70, 157, 87), (88, 157, 69), (109, 157, 48), (205, 256, 51), (211, 256, 45), (286, 295, 9), (430, 1615, 1185), (565, 1615, 1050), (589, 1615, 1026), (745, 1615, 870), (862, 1615, 753), (880, 1615, 735), (1387, 1615, 228), (1855, 1867, 12), (2032, 2209, 177), (2035, 2209, 174), (2059, 2209, 150), (2119, 2209, 90), (2377, 2512, 135), (2395, 2512, 117), (2425, 2512, 87), (2464, 2512, 48), (2467, 2512, 45), (2485, 2512, 27), (2527, 3553, 1026), (2572, 3553, 981), (2626, 3553, 927), (2650, 3553, 903), (2779, 3553, 774), (2956, 3553, 597), (2995, 3553, 558), (3121, 3553, 432), (3139, 3553, 414), (3211, 3553, 342), (3262, 3553, 291), (3481, 3553, 72), (3757, 4195, 438), (3790, 4195, 405), (3838, 4195, 357), (3922, 4195, 273), (4216, 4498, 282), (4453, 4498, 45)]\n",
      "For gi|142022655|gb|EQ086233.1|45, there are ORFs [(157, 685, 528), (367, 685, 318), (469, 685, 216), (547, 685, 138), (556, 685, 129), (559, 685, 126), (565, 685, 120), (586, 685, 99), (646, 685, 39), (667, 685, 18), (1135, 1531, 396), (1297, 1531, 234), (1318, 1531, 213), (1384, 1531, 147), (1426, 1531, 105), (1429, 1531, 102), (1453, 1531, 78), (1504, 1531, 27), (1612, 2050, 438), (1657, 2050, 393), (1708, 2050, 342), (2128, 2239, 111), (2425, 2524, 99), (2659, 2773, 114), (2707, 2773, 66), (2833, 3253, 420), (2887, 3253, 366), (2986, 3253, 267), (3040, 3253, 213), (3064, 3253, 189), (3100, 3253, 153), (3271, 3490, 219), (3358, 3490, 132)]\n",
      "For gi|142022655|gb|EQ086233.1|396, there are ORFs [(184, 358, 174), (247, 358, 111), (367, 532, 165), (733, 1282, 549), (1030, 1282, 252), (1177, 1282, 105), (1516, 2797, 1281), (1597, 2797, 1200), (1636, 2797, 1161), (2128, 2797, 669), (2206, 2797, 591), (2230, 2797, 567), (2242, 2797, 555), (2347, 2797, 450), (2692, 2797, 105), (2800, 3652, 852), (3100, 3652, 552), (3283, 3652, 369), (3499, 3652, 153), (3592, 3652, 60)]\n",
      "For gi|142022655|gb|EQ086233.1|250, there are ORFs [(103, 139, 36), (163, 715, 552), (538, 715, 177), (868, 892, 24), (1096, 1198, 102), (1126, 1198, 72), (1303, 1399, 96), (1786, 1858, 72), (1897, 2143, 246), (1930, 2143, 213), (2476, 2671, 195)]\n",
      "For gi|142022655|gb|EQ086233.1|322, there are ORFs [(274, 430, 156), (349, 430, 81), (379, 430, 51)]\n",
      "For gi|142022655|gb|EQ086233.1|88, there are ORFs [(181, 319, 138)]\n",
      "For gi|142022655|gb|EQ086233.1|594, there are ORFs [(694, 727, 33)]\n",
      "For gi|142022655|gb|EQ086233.1|293, there are ORFs [(1108, 1201, 93), (1573, 1993, 420), (1645, 1993, 348), (1726, 1993, 267), (2110, 2176, 66), (2374, 2722, 348), (2656, 2722, 66), (2974, 2983, 9), (2995, 3139, 144), (3166, 3193, 27), (3385, 3424, 39), (3628, 3685, 57)]\n",
      "For gi|142022655|gb|EQ086233.1|75, there are ORFs [(256, 760, 504), (904, 1081, 177), (916, 1081, 165)]\n",
      "For gi|142022655|gb|EQ086233.1|454, there are ORFs [(757, 1579, 822), (1189, 1579, 390), (1285, 1579, 294), (1393, 1579, 186), (1798, 2341, 543), (1873, 2341, 468), (1936, 2341, 405), (1954, 2341, 387), (1984, 2341, 357), (2731, 2935, 204), (3247, 3298, 51)]\n",
      "For gi|142022655|gb|EQ086233.1|16, there are ORFs [(460, 856, 396), (904, 1522, 618), (1291, 1522, 231), (1795, 1954, 159), (1978, 2125, 147), (2068, 2125, 57), (3070, 4528, 1458), (3235, 4528, 1293), (3265, 4528, 1263), (3280, 4528, 1248), (3388, 4528, 1140), (3490, 4528, 1038), (3538, 4528, 990), (3559, 4528, 969), (3685, 4528, 843), (3943, 4528, 585), (4060, 4528, 468), (4117, 4528, 411), (4342, 4528, 186)]\n",
      "For gi|142022655|gb|EQ086233.1|584, there are ORFs [(166, 184, 18), (202, 229, 27)]\n",
      "For gi|142022655|gb|EQ086233.1|4, there are ORFs [(61, 187, 126)]\n",
      "For gi|142022655|gb|EQ086233.1|277, there are ORFs [(679, 958, 279), (1084, 1132, 48), (1087, 1132, 45)]\n",
      "For gi|142022655|gb|EQ086233.1|346, there are ORFs []\n",
      "For gi|142022655|gb|EQ086233.1|527, there are ORFs [(505, 946, 441), (928, 946, 18), (958, 1069, 111), (1039, 1069, 30), (1540, 2110, 570), (2059, 2110, 51), (2467, 2494, 27)]\n"
     ]
    }
   ],
   "source": [
    "all_indices = []\n",
    "\n",
    "for i in range(len(my_seq)):\n",
    "    \n",
    "    seq = my_seq[i].seq\n",
    "    \n",
    "    sequences, indices = split_orf_seq(seq,1)\n",
    "    \n",
    "    print(f\"For {my_seq[i].id}, there are ORFs {indices}\")\n",
    "    \n",
    "    all_indices.append(indices)"
   ]
  },
  {
   "cell_type": "code",
   "execution_count": 11,
   "id": "cdcac89f-b493-4f12-9c8d-1f4480489be1",
   "metadata": {},
   "outputs": [
    {
     "data": {
      "text/plain": [
       "51"
      ]
     },
     "execution_count": 11,
     "metadata": {},
     "output_type": "execute_result"
    }
   ],
   "source": [
    "all_indices[0][0][2]"
   ]
  },
  {
   "cell_type": "code",
   "execution_count": 12,
   "id": "e23df0cb-0806-4559-97b6-b2fe60272f6d",
   "metadata": {},
   "outputs": [
    {
     "name": "stdout",
     "output_type": "stream",
     "text": [
      "1458\n",
      "(3070, 4528, 1458)\n"
     ]
    }
   ],
   "source": [
    "maximum = 0\n",
    "value = ()\n",
    "\n",
    "for i in range(len(all_indices)):\n",
    "    \n",
    "    for j in range(len(all_indices[i])):\n",
    "        \n",
    "        if all_indices[i][j][2] > maximum:\n",
    "            maximum = all_indices[i][j][2]\n",
    "            value = all_indices[i][j]\n",
    "\n",
    "print(maximum)\n",
    "print(value)"
   ]
  },
  {
   "cell_type": "markdown",
   "id": "27832fc5-f7c4-4449-a326-cc00e32cee6d",
   "metadata": {},
   "source": [
    "## What is the starting position of the longest ORF in reading frame 3 in any of the sequences? The position should indicate the character number where the ORF begins."
   ]
  },
  {
   "cell_type": "code",
   "execution_count": 13,
   "id": "06bac8f8-f697-4eb8-ac81-2abccb7db0e4",
   "metadata": {},
   "outputs": [
    {
     "name": "stdout",
     "output_type": "stream",
     "text": [
      "For gi|142022655|gb|EQ086233.1|91, there are ORFs [(908, 1262, 354), (1400, 1439, 39), (2270, 2399, 129), (2855, 3443, 588), (3089, 3443, 354), (3386, 3443, 57), (3449, 3533, 84), (3542, 3692, 150), (3563, 3692, 129), (3650, 3692, 42), (3752, 3851, 99), (3797, 3851, 54), (3941, 3956, 15), (4082, 4130, 48), (4262, 4292, 30), (4310, 4376, 66), (4391, 4472, 81)]\n",
      "For gi|142022655|gb|EQ086233.1|304, there are ORFs [(620, 767, 147), (623, 767, 144), (908, 1028, 120), (1097, 1139, 42)]\n",
      "For gi|142022655|gb|EQ086233.1|255, there are ORFs [(776, 947, 171), (1178, 1187, 9), (1640, 1925, 285), (1691, 1925, 234), (1754, 1925, 171), (1817, 1925, 108), (2021, 2033, 12), (2609, 2675, 66), (3704, 3905, 201), (3803, 3905, 102), (4025, 4217, 192)]\n",
      "For gi|142022655|gb|EQ086233.1|45, there are ORFs [(215, 473, 258), (362, 473, 111), (431, 473, 42), (524, 557, 33), (698, 1022, 324), (2627, 2711, 84)]\n",
      "For gi|142022655|gb|EQ086233.1|396, there are ORFs [(428, 653, 225), (434, 653, 219), (1940, 1970, 30), (1991, 2039, 48), (2390, 2474, 84), (2696, 2792, 96), (3119, 3182, 63), (3203, 3383, 180), (3212, 3383, 171), (3326, 3383, 57), (3398, 3413, 15), (3419, 3491, 72), (3494, 3542, 48), (3872, 4043, 171)]\n",
      "For gi|142022655|gb|EQ086233.1|250, there are ORFs [(245, 344, 99), (1373, 1622, 249)]\n",
      "For gi|142022655|gb|EQ086233.1|322, there are ORFs [(89, 278, 189), (311, 353, 42)]\n",
      "For gi|142022655|gb|EQ086233.1|88, there are ORFs []\n",
      "For gi|142022655|gb|EQ086233.1|594, there are ORFs [(65, 278, 213), (119, 278, 159)]\n",
      "For gi|142022655|gb|EQ086233.1|293, there are ORFs [(1016, 1268, 252), (1355, 1364, 9), (1394, 1556, 162), (1697, 2114, 417), (1823, 2114, 291), (1850, 2114, 264), (1919, 2114, 195), (1961, 2114, 153), (2333, 3044, 711), (3059, 3188, 129)]\n",
      "For gi|142022655|gb|EQ086233.1|75, there are ORFs [(56, 260, 204), (113, 260, 147), (143, 260, 117), (290, 323, 33), (344, 380, 36), (365, 380, 15), (401, 584, 183), (596, 647, 51)]\n",
      "For gi|142022655|gb|EQ086233.1|454, there are ORFs [(221, 761, 540), (542, 761, 219), (548, 761, 213), (686, 761, 75), (1271, 1394, 123), (1310, 1394, 84), (2057, 2123, 66), (2168, 2300, 132), (2315, 2408, 93), (3095, 4496, 1401), (3602, 4496, 894)]\n",
      "For gi|142022655|gb|EQ086233.1|16, there are ORFs [(110, 1427, 1317), (431, 1427, 996), (530, 1427, 897), (545, 1427, 882), (584, 1427, 843), (662, 1427, 765), (752, 1427, 675), (761, 1427, 666), (833, 1427, 594), (926, 1427, 501), (968, 1427, 459), (1022, 1427, 405), (1268, 1427, 159), (1301, 1427, 126), (1439, 3083, 1644), (1493, 3083, 1590), (2024, 3083, 1059), (2972, 3083, 111), (3104, 3236, 132), (3188, 3236, 48), (3215, 3236, 21), (3401, 3461, 60), (3629, 3689, 60), (3797, 3890, 93), (3821, 3890, 69), (4148, 4301, 153), (4250, 4301, 51), (4577, 4667, 90), (4658, 4667, 9)]\n",
      "For gi|142022655|gb|EQ086233.1|584, there are ORFs [(347, 479, 132), (377, 479, 102), (422, 479, 57)]\n",
      "For gi|142022655|gb|EQ086233.1|4, there are ORFs [(692, 755, 63), (1202, 1229, 27), (1277, 1496, 219), (1406, 1496, 90), (1478, 1496, 18), (1961, 2087, 126)]\n",
      "For gi|142022655|gb|EQ086233.1|277, there are ORFs [(758, 929, 171), (965, 1034, 69), (971, 1034, 63), (1136, 1196, 60), (1196, 1223, 27), (1358, 1385, 27)]\n",
      "For gi|142022655|gb|EQ086233.1|346, there are ORFs []\n",
      "For gi|142022655|gb|EQ086233.1|527, there are ORFs [(20, 53, 33), (176, 533, 357), (497, 533, 36), (635, 2456, 1821), (698, 2456, 1758), (704, 2456, 1752), (737, 2456, 1719), (833, 2456, 1623), (1112, 2456, 1344), (1712, 2456, 744), (1820, 2456, 636), (2036, 2456, 420), (2102, 2456, 354), (2375, 2456, 81), (2414, 2456, 42)]\n"
     ]
    }
   ],
   "source": [
    "all_indices = []\n",
    "\n",
    "for i in range(len(my_seq)):\n",
    "    \n",
    "    seq = my_seq[i].seq\n",
    "    \n",
    "    sequences, indices = split_orf_seq(seq,2)\n",
    "    \n",
    "    print(f\"For {my_seq[i].id}, there are ORFs {indices}\")\n",
    "    \n",
    "    all_indices.append(indices)"
   ]
  },
  {
   "cell_type": "code",
   "execution_count": 14,
   "id": "1bb7a261-e931-447c-8636-15d6761c00a6",
   "metadata": {},
   "outputs": [
    {
     "name": "stdout",
     "output_type": "stream",
     "text": [
      "1821\n",
      "(635, 2456, 1821)\n"
     ]
    }
   ],
   "source": [
    "maximum = 0\n",
    "value = ()\n",
    "\n",
    "for i in range(len(all_indices)):\n",
    "    \n",
    "    for j in range(len(all_indices[i])):\n",
    "        \n",
    "        if all_indices[i][j][2] > maximum:\n",
    "            maximum = all_indices[i][j][2]\n",
    "            value = all_indices[i][j]\n",
    "\n",
    "print(maximum)\n",
    "print(value)"
   ]
  },
  {
   "cell_type": "markdown",
   "id": "f2690fa2-aafc-4c53-ac98-59669038164f",
   "metadata": {},
   "source": [
    "## What is the length of the longest ORF appearing in any sequence and in any forward reading frame?"
   ]
  },
  {
   "cell_type": "code",
   "execution_count": 15,
   "id": "93450ab7-c69d-4f54-b3bb-aa9d9ad6d989",
   "metadata": {},
   "outputs": [
    {
     "name": "stdout",
     "output_type": "stream",
     "text": [
      "For gi|142022655|gb|EQ086233.1|91, there are ORFs [(228, 906, 678), (453, 906, 453), (588, 906, 318), (978, 2274, 1296), (1071, 2274, 1203), (1083, 2274, 1191), (1194, 2274, 1080), (1200, 2274, 1074), (2055, 2274, 219), (2226, 2274, 48), (2385, 3093, 708), (2454, 3093, 639), (2583, 3093, 510), (3744, 4032, 288)]\n",
      "For gi|142022655|gb|EQ086233.1|304, there are ORFs [(519, 588, 69), (858, 963, 105)]\n",
      "For gi|142022655|gb|EQ086233.1|255, there are ORFs [(291, 1734, 1443), (297, 1734, 1437), (345, 1734, 1389), (768, 1734, 966), (1290, 1734, 444), (1395, 1734, 339), (1725, 1734, 9), (1863, 2493, 630), (1866, 2493, 627), (2502, 2568, 66), (2580, 2613, 33)]\n",
      "For gi|142022655|gb|EQ086233.1|45, there are ORFs [(384, 2778, 2394), (681, 2778, 2097), (705, 2778, 2073), (711, 2778, 2067), (879, 2778, 1899), (975, 2778, 1803), (1002, 2778, 1776), (1122, 2778, 1656), (2757, 2778, 21)]\n",
      "For gi|142022655|gb|EQ086233.1|396, there are ORFs [(144, 408, 264), (204, 408, 204), (354, 408, 54), (528, 1587, 1059), (729, 1587, 858), (984, 1587, 603), (1281, 1587, 306), (1341, 1587, 246), (1392, 1587, 195), (1560, 1587, 27), (2373, 3186, 813), (3648, 3747, 99)]\n",
      "For gi|142022655|gb|EQ086233.1|250, there are ORFs [(561, 2121, 1560), (927, 2121, 1194), (969, 2121, 1152), (1065, 2121, 1056), (1107, 2121, 1014), (1314, 2121, 807), (1530, 2121, 591), (1626, 2121, 495), (1683, 2121, 438), (2403, 2601, 198), (2436, 2601, 165)]\n",
      "For gi|142022655|gb|EQ086233.1|322, there are ORFs []\n",
      "For gi|142022655|gb|EQ086233.1|88, there are ORFs [(81, 201, 120), (90, 201, 111), (315, 363, 48), (519, 573, 54), (732, 747, 15)]\n",
      "For gi|142022655|gb|EQ086233.1|594, there are ORFs [(27, 69, 42)]\n",
      "For gi|142022655|gb|EQ086233.1|293, there are ORFs [(21, 201, 180), (57, 201, 144), (90, 201, 111), (99, 201, 102), (225, 342, 117), (354, 624, 270), (504, 624, 120), (519, 624, 105), (546, 624, 78), (555, 624, 69), (681, 714, 33), (762, 909, 147), (804, 909, 105), (972, 1014, 42), (984, 1014, 30), (1020, 1041, 21), (1089, 1221, 132), (1137, 1221, 84), (1146, 1221, 75), (1200, 1221, 21), (1389, 1701, 312), (1470, 1701, 231), (1578, 1701, 123), (1605, 1701, 96), (1989, 2241, 252), (2031, 2241, 210), (2046, 2241, 195), (2070, 2241, 171), (2133, 2241, 108), (2172, 2241, 69), (2964, 3063, 99), (2967, 3063, 96), (2979, 3063, 84), (3033, 3063, 30), (3135, 3162, 27), (3240, 3267, 27), (3423, 3519, 96), (3462, 3519, 57), (3471, 3519, 48), (3480, 3519, 39), (3552, 3621, 69), (3600, 3621, 21), (3612, 3621, 9), (3681, 3795, 114), (3762, 3795, 33), (3870, 4122, 252), (3999, 4122, 123), (4068, 4122, 54), (4167, 4230, 63)]\n",
      "For gi|142022655|gb|EQ086233.1|75, there are ORFs [(729, 768, 39), (819, 999, 180), (894, 999, 105), (1074, 1170, 96)]\n",
      "For gi|142022655|gb|EQ086233.1|454, there are ORFs [(144, 231, 87), (1644, 1746, 102), (2103, 2151, 48), (2337, 3381, 1044), (2379, 3381, 1002), (2442, 3381, 939), (2787, 3381, 594), (2931, 3381, 450), (2955, 3381, 426), (2997, 3381, 384), (3003, 3381, 378), (3234, 3381, 147), (3252, 3381, 129), (3357, 3381, 24), (3708, 3822, 114), (4134, 4260, 126), (4155, 4260, 105), (4176, 4260, 84), (4269, 4308, 39), (4314, 4467, 153), (4356, 4467, 111)]\n",
      "For gi|142022655|gb|EQ086233.1|16, there are ORFs [(264, 330, 66), (288, 330, 42), (576, 603, 27), (1272, 1494, 222), (1527, 3036, 1509), (1665, 3036, 1371), (1671, 3036, 1365), (1689, 3036, 1347), (1719, 3036, 1317), (1779, 3036, 1257), (2124, 3036, 912), (2178, 3036, 858), (2262, 3036, 774), (2370, 3036, 666), (2466, 3036, 570), (2517, 3036, 519), (2607, 3036, 429), (2634, 3036, 402), (2637, 3036, 399), (2730, 3036, 306), (2991, 3036, 45), (4719, 4788, 69), (4731, 4788, 57)]\n",
      "For gi|142022655|gb|EQ086233.1|584, there are ORFs [(159, 249, 90), (369, 396, 27), (885, 900, 15), (930, 942, 12)]\n",
      "For gi|142022655|gb|EQ086233.1|4, there are ORFs [(0, 210, 210), (444, 693, 249)]\n",
      "For gi|142022655|gb|EQ086233.1|277, there are ORFs [(186, 285, 99), (597, 801, 204), (621, 801, 180), (675, 801, 126), (705, 801, 96), (837, 939, 102), (876, 939, 63), (906, 939, 33)]\n",
      "For gi|142022655|gb|EQ086233.1|346, there are ORFs []\n",
      "For gi|142022655|gb|EQ086233.1|527, there are ORFs [(81, 255, 174), (381, 477, 96), (591, 639, 48), (900, 915, 15), (942, 1029, 87), (987, 1029, 42), (1224, 1419, 195), (1536, 1653, 117), (2196, 2235, 39), (2334, 2409, 75)]\n"
     ]
    }
   ],
   "source": [
    "all_indices = []\n",
    "\n",
    "for i in range(len(my_seq)):\n",
    "    \n",
    "    seq = my_seq[i].seq\n",
    "    \n",
    "    sequences, indices = split_orf_seq(seq,0)\n",
    "    \n",
    "    print(f\"For {my_seq[i].id}, there are ORFs {indices}\")\n",
    "    \n",
    "    all_indices.append(indices)"
   ]
  },
  {
   "cell_type": "code",
   "execution_count": 16,
   "id": "b07565e7-958f-4c54-a7b2-c1ec62bc21d0",
   "metadata": {},
   "outputs": [
    {
     "name": "stdout",
     "output_type": "stream",
     "text": [
      "2394\n",
      "(384, 2778, 2394)\n"
     ]
    }
   ],
   "source": [
    "maximum = 0\n",
    "value = ()\n",
    "\n",
    "for i in range(len(all_indices)):\n",
    "    \n",
    "    for j in range(len(all_indices[i])):\n",
    "        \n",
    "        if all_indices[i][j][2] > maximum:\n",
    "            maximum = all_indices[i][j][2]\n",
    "            value = all_indices[i][j]\n",
    "\n",
    "print(maximum)\n",
    "print(value)"
   ]
  },
  {
   "cell_type": "markdown",
   "id": "7ae52192-1a9c-444a-a6fd-9a7cc92ef302",
   "metadata": {},
   "source": [
    "## What is the length of the longest forward ORF that appears in the sequence with the identifier  gi|142022655|gb|EQ086233.1|16?"
   ]
  },
  {
   "cell_type": "markdown",
   "id": "23c61d88-86f2-46e8-9079-2d664a39f2a0",
   "metadata": {},
   "source": [
    "It is 1644. I did it with Ctrl + F."
   ]
  },
  {
   "cell_type": "markdown",
   "id": "46642ba4-67c6-4598-b449-696f4efde637",
   "metadata": {},
   "source": [
    "## Find the most frequently occurring repeat of length 6 in all sequences. How many times does it occur in all?"
   ]
  },
  {
   "cell_type": "code",
   "execution_count": 17,
   "id": "2078648c-acf7-4ba9-999f-4c6696b45bcc",
   "metadata": {},
   "outputs": [],
   "source": [
    "# Finds how many repeats of a given length within a single sequence\n",
    "# Repeats can overlap\n",
    "\"\"\"\n",
    "input - sequence (seq), length (l)\n",
    "output - dict[seq] = amount of repeats\n",
    "\"\"\"\n",
    "\n",
    "def repeats_one_seq(seq, l=6):\n",
    "    \n",
    "    repeats = {}\n",
    "    \n",
    "    N = len(seq)\n",
    "    \n",
    "    for i in range(N-l+1):\n",
    "        \n",
    "        rep_seq = seq[i:i+l]\n",
    "               \n",
    "        if rep_seq not in repeats.keys():\n",
    "\n",
    "            repeats[rep_seq] = 0\n",
    "            \n",
    "            for j in range(N):\n",
    "\n",
    "                if rep_seq == seq[j:j+l]:\n",
    "                    repeats[rep_seq] += 1\n",
    "    \n",
    "    return repeats\n",
    "\n"
   ]
  },
  {
   "cell_type": "code",
   "execution_count": 18,
   "id": "670674c1-f941-4832-9808-9c694bef4b8d",
   "metadata": {},
   "outputs": [
    {
     "data": {
      "text/plain": [
       "{'AA': 2, 'AB': 1, 'BB': 2}"
      ]
     },
     "execution_count": 18,
     "metadata": {},
     "output_type": "execute_result"
    }
   ],
   "source": [
    "repeats_one_seq('AAABBB', l=2)"
   ]
  },
  {
   "cell_type": "code",
   "execution_count": 19,
   "id": "c4f8ad4d-a3f3-4158-9f28-b6ca3512fa74",
   "metadata": {},
   "outputs": [],
   "source": [
    "# this script merges two dictionaries together\n",
    "# by adding values\n",
    "\"\"\"\n",
    "input - main_dict and merge_dict\n",
    "output - main_dict will be updated in-place\n",
    "\"\"\"\n",
    "\n",
    "def merge_dict_seq(main_dict, merge_dict):\n",
    "    \n",
    "    # check all keys\n",
    "    for key in merge_dict.keys():\n",
    "        if key in main_dict.keys():\n",
    "            main_dict[key] = main_dict[key] + merge_dict[key]\n",
    "        else:\n",
    "            main_dict[key] = merge_dict[key]\n",
    "    \n",
    "    "
   ]
  },
  {
   "cell_type": "code",
   "execution_count": 20,
   "id": "d603f683-7549-4c9c-9c48-91dfff7a58a2",
   "metadata": {},
   "outputs": [
    {
     "data": {
      "text/plain": [
       "[Seq('CTCGCGTTGCAGGCCGGCGTGTCGCGCAACGACGTGTGGGGCCTGACGGGCAGG...GCC'),\n",
       " Seq('CGCGATCCAGTAGCGCTTGTAGCCGAGCGCTTCGGCACGCTTCGCGAGCGCGAT...GCC'),\n",
       " Seq('CTCGACGCGCTCCGCGTCGAGGTCGCCCGACGTCTCGCGCAGCAACTGATTCAA...TCG'),\n",
       " Seq('CGTGCTCGGCACGACTATCAGCCCGTATCTGTTTTTCTGGCAGGCCTCCCAGGA...CCG'),\n",
       " Seq('TGCATCGGCGACGGCTACTGGTTCCTCGAGAAAGCGCGCAACTACGCGAGCGAG...TCA'),\n",
       " Seq('GCCCGTGCCGACGCGCCGCATCGTCAGCGCGCGGCGCTCGTGGTCCTGCCACGC...CGA'),\n",
       " Seq('TGCGGGCGGCCTGTGGGCGGTCGGCGCCGGGCTGTCGCAGCCGCTGTTCCACGG...GCG'),\n",
       " Seq('GGACCGGCGAGGAAGTGGTCGGCGTCGAACAGGACGATCGCTGCGTCACGTTGC...CTC'),\n",
       " Seq('GCCGCGGGCGCCGGACGGAGCACGCGCATGATCCCGCTTTCCCATCCGTCCTTC...TCG'),\n",
       " Seq('ACTGCCGCGTTCAGCGCGAGAATGTTCGTCTGGAACGCAATCCCTTCGATTACC...GAA'),\n",
       " Seq('TATAGGCCTGGACCTGCGTGCGGGCGAGATCGGCGTCTTCGCCGAAGGTGCCGT...GAG'),\n",
       " Seq('TCGCGGGCCTCGCGCTGCCGTTCGCGGCGCTCGCGTTGCTGGAGGTGGTCGTGC...CAG'),\n",
       " Seq('GTCGATCGACACGACGCTCGCGCAGCGCGACGCGAAGGCCGCGTGAGCGCACGA...CGT'),\n",
       " Seq('CGCAGGTGGCAGCATTTAAGATCTCGCAAGGTGGTGTCTCCCCCATCATTGGTG...GGC'),\n",
       " Seq('ATGTGCCTGAAGACGTTTCAGGCGCGCGAATATTGTGGCGAGAGAAAAAATCTG...CAG'),\n",
       " Seq('CCGCGAAGGCCGCGTTCGCCACGCCCGCTGCCAACAGCGATCTCGCCGGCACCA...CGA'),\n",
       " Seq('GCGGTCCCGGCGCCGCAGGCCGTCCGGCTCCTGCAGCGCGCCGAACCGGGTCTC...GCC'),\n",
       " Seq('GAGAACCGGGAACCGGAACCATGACAGCCCCGCGCCGGTTTTACGCGAGATAGC...AGA')]"
      ]
     },
     "execution_count": 20,
     "metadata": {},
     "output_type": "execute_result"
    }
   ],
   "source": [
    "list_all_seq = []\n",
    "\n",
    "for i in range(len(my_seq)):\n",
    "    list_all_seq.append(my_seq[i].seq)\n",
    "    \n",
    "list_all_seq"
   ]
  },
  {
   "cell_type": "code",
   "execution_count": 21,
   "id": "a42b2bae-a38e-4ab4-93f9-1f40bd7eb1d9",
   "metadata": {},
   "outputs": [],
   "source": [
    "repeats = {}\n",
    "\n",
    "for a_seq in list_all_seq:\n",
    "    \n",
    "    dict_seq = repeats_one_seq(a_seq, l=6)\n",
    "    \n",
    "    merge_dict_seq(repeats, dict_seq)\n",
    "    \n"
   ]
  },
  {
   "cell_type": "code",
   "execution_count": 22,
   "id": "1f8bf29d-8bee-4d03-8a89-69949c38ccc9",
   "metadata": {},
   "outputs": [],
   "source": [
    "maximum = 0\n",
    "\n",
    "for key in repeats.keys():\n",
    "    \n",
    "    if repeats[key] > maximum:\n",
    "        maximum = repeats[key]\n",
    "        max_key = key"
   ]
  },
  {
   "cell_type": "code",
   "execution_count": 23,
   "id": "8ab5165b-f3ea-4e47-bd76-64f15b0778b6",
   "metadata": {},
   "outputs": [
    {
     "name": "stdout",
     "output_type": "stream",
     "text": [
      "GCGCGC 153\n"
     ]
    }
   ],
   "source": [
    "print(max_key, repeats[max_key])"
   ]
  },
  {
   "cell_type": "markdown",
   "id": "491676b4-3f6f-41ce-b46d-b94738e9d9d5",
   "metadata": {},
   "source": [
    "## Find all repeats of length 12 in the input file. \n",
    "Let's use Max to specify the number of copies of the most frequent repeat of length 12. How many different 12-base sequences occur Max times?"
   ]
  },
  {
   "cell_type": "code",
   "execution_count": 24,
   "id": "ebfb6dda-96d2-438c-8ab8-c3e97a5f485b",
   "metadata": {},
   "outputs": [],
   "source": [
    "repeats = {}\n",
    "\n",
    "for a_seq in list_all_seq:\n",
    "    \n",
    "    dict_seq = repeats_one_seq(a_seq, l=12)\n",
    "    \n",
    "    merge_dict_seq(repeats, dict_seq)\n",
    "    "
   ]
  },
  {
   "cell_type": "code",
   "execution_count": 32,
   "id": "7dce8018-6e74-4364-bcd1-5d7beffd9d8d",
   "metadata": {},
   "outputs": [],
   "source": [
    "maximum = 0\n",
    "\n",
    "for key in repeats.keys():\n",
    "    \n",
    "    if repeats[key] > maximum:\n",
    "        maximum = repeats[key]\n",
    "        max_key = key"
   ]
  },
  {
   "cell_type": "code",
   "execution_count": 33,
   "id": "35d2924a-2853-4e9e-9fa1-0c9535ccdf57",
   "metadata": {},
   "outputs": [
    {
     "name": "stdout",
     "output_type": "stream",
     "text": [
      "CATTCGCCATTC 10\n"
     ]
    }
   ],
   "source": [
    "print(max_key, repeats[max_key])"
   ]
  },
  {
   "cell_type": "code",
   "execution_count": 34,
   "id": "8c270945-1ee7-4f5a-adc7-aec07979bef9",
   "metadata": {},
   "outputs": [
    {
     "name": "stdout",
     "output_type": "stream",
     "text": [
      "CATTCGCCATTC\n",
      "ATTCGCCATTCG\n",
      "TTCGCCATTCGC\n",
      "TCGCCATTCGCC\n"
     ]
    }
   ],
   "source": [
    "for key in repeats.keys():\n",
    "    \n",
    "    if repeats[key] == 10:\n",
    "        print(key)"
   ]
  },
  {
   "cell_type": "markdown",
   "id": "c2ab8a77-2e9a-4793-928a-766fda1ef17d",
   "metadata": {},
   "source": [
    "## Which one of the following repeats of length 7 has a maximum number of occurrences?"
   ]
  },
  {
   "cell_type": "code",
   "execution_count": 35,
   "id": "9378f08b-8b73-489f-9a9d-09b9b35a28fc",
   "metadata": {},
   "outputs": [],
   "source": [
    "repeats = {}\n",
    "\n",
    "for a_seq in list_all_seq:\n",
    "    \n",
    "    dict_seq = repeats_one_seq(a_seq, l=7)\n",
    "    \n",
    "    merge_dict_seq(repeats, dict_seq)"
   ]
  },
  {
   "cell_type": "code",
   "execution_count": 36,
   "id": "9d260f8e-e325-435d-b5c7-5ef192a20973",
   "metadata": {},
   "outputs": [],
   "source": [
    "maximum = 0\n",
    "\n",
    "for key in repeats.keys():\n",
    "    \n",
    "    if repeats[key] > maximum:\n",
    "        maximum = repeats[key]\n",
    "        max_key = key"
   ]
  },
  {
   "cell_type": "code",
   "execution_count": 37,
   "id": "ef2cb84f-ac96-4abc-a690-a424f42e9222",
   "metadata": {},
   "outputs": [
    {
     "name": "stdout",
     "output_type": "stream",
     "text": [
      "CGCGCCG 63\n"
     ]
    }
   ],
   "source": [
    "print(max_key, repeats[max_key])"
   ]
  },
  {
   "cell_type": "code",
   "execution_count": null,
   "id": "902cf823-d43c-4f5a-99c7-4f1dbbf0f6f8",
   "metadata": {},
   "outputs": [],
   "source": []
  }
 ],
 "metadata": {
  "kernelspec": {
   "display_name": "Python 3 (ipykernel)",
   "language": "python",
   "name": "python3"
  },
  "language_info": {
   "codemirror_mode": {
    "name": "ipython",
    "version": 3
   },
   "file_extension": ".py",
   "mimetype": "text/x-python",
   "name": "python",
   "nbconvert_exporter": "python",
   "pygments_lexer": "ipython3",
   "version": "3.9.13"
  }
 },
 "nbformat": 4,
 "nbformat_minor": 5
}
